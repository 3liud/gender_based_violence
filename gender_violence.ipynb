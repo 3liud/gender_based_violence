{
 "cells": [
  {
   "cell_type": "markdown",
   "metadata": {},
   "source": [
    "## Gender based violence Project\n",
    "Exploring gender based violence survey dataset."
   ]
  },
  {
   "cell_type": "markdown",
   "metadata": {},
   "source": [
    "This project looks at a survey that focused on \"Violence against women and girls\" in over 70 countries. The data was downloaded from kaggle link https://www.kaggle.com/andrewmvd/violence-against-women-and-girls. In this analysis I focus on answering three questions:\n",
    "- Gender violence in Kenya\n",
    "- what was the most common reason given in the survey as to why women were beaten?\n",
    "- How do the two genders, male and female compare when it comes to supporting gender violence agaisnt women?\n",
    "- what was the most common form of violence acts committed?"
   ]
  },
  {
   "cell_type": "code",
   "execution_count": 66,
   "metadata": {},
   "outputs": [],
   "source": [
    "# loading the necessary libraries\n",
    "\n",
    "import pandas as pd\n",
    "import numpy as np\n",
    "import matplotlib.pyplot as plt\n",
    "from sklearn.linear_model import LinearRegression\n",
    "from sklearn.model_selection import train_test_split\n",
    "from sklearn.metrics import r2_score, mean_squared_error\n",
    "import seaborn as sns\n",
    "%matplotlib inline"
   ]
  },
  {
   "cell_type": "markdown",
   "metadata": {},
   "source": [
    "### Data Gathering"
   ]
  },
  {
   "cell_type": "code",
   "execution_count": 67,
   "metadata": {},
   "outputs": [
    {
     "data": {
      "text/html": [
       "<div>\n",
       "<style scoped>\n",
       "    .dataframe tbody tr th:only-of-type {\n",
       "        vertical-align: middle;\n",
       "    }\n",
       "\n",
       "    .dataframe tbody tr th {\n",
       "        vertical-align: top;\n",
       "    }\n",
       "\n",
       "    .dataframe thead th {\n",
       "        text-align: right;\n",
       "    }\n",
       "</style>\n",
       "<table border=\"1\" class=\"dataframe\">\n",
       "  <thead>\n",
       "    <tr style=\"text-align: right;\">\n",
       "      <th></th>\n",
       "      <th>RecordID</th>\n",
       "      <th>Country</th>\n",
       "      <th>Gender</th>\n",
       "      <th>Demographics Question</th>\n",
       "      <th>Demographics Response</th>\n",
       "      <th>Question</th>\n",
       "      <th>Survey Year</th>\n",
       "      <th>Value</th>\n",
       "    </tr>\n",
       "  </thead>\n",
       "  <tbody>\n",
       "    <tr>\n",
       "      <th>0</th>\n",
       "      <td>1</td>\n",
       "      <td>Afghanistan</td>\n",
       "      <td>F</td>\n",
       "      <td>Marital status</td>\n",
       "      <td>Never married</td>\n",
       "      <td>... if she burns the food</td>\n",
       "      <td>01/01/2015</td>\n",
       "      <td>NaN</td>\n",
       "    </tr>\n",
       "    <tr>\n",
       "      <th>1</th>\n",
       "      <td>1</td>\n",
       "      <td>Afghanistan</td>\n",
       "      <td>F</td>\n",
       "      <td>Education</td>\n",
       "      <td>Higher</td>\n",
       "      <td>... if she burns the food</td>\n",
       "      <td>01/01/2015</td>\n",
       "      <td>10.1</td>\n",
       "    </tr>\n",
       "    <tr>\n",
       "      <th>2</th>\n",
       "      <td>1</td>\n",
       "      <td>Afghanistan</td>\n",
       "      <td>F</td>\n",
       "      <td>Education</td>\n",
       "      <td>Secondary</td>\n",
       "      <td>... if she burns the food</td>\n",
       "      <td>01/01/2015</td>\n",
       "      <td>13.7</td>\n",
       "    </tr>\n",
       "    <tr>\n",
       "      <th>3</th>\n",
       "      <td>1</td>\n",
       "      <td>Afghanistan</td>\n",
       "      <td>F</td>\n",
       "      <td>Education</td>\n",
       "      <td>Primary</td>\n",
       "      <td>... if she burns the food</td>\n",
       "      <td>01/01/2015</td>\n",
       "      <td>13.8</td>\n",
       "    </tr>\n",
       "    <tr>\n",
       "      <th>4</th>\n",
       "      <td>1</td>\n",
       "      <td>Afghanistan</td>\n",
       "      <td>F</td>\n",
       "      <td>Marital status</td>\n",
       "      <td>Widowed, divorced, separated</td>\n",
       "      <td>... if she burns the food</td>\n",
       "      <td>01/01/2015</td>\n",
       "      <td>13.8</td>\n",
       "    </tr>\n",
       "  </tbody>\n",
       "</table>\n",
       "</div>"
      ],
      "text/plain": [
       "   RecordID      Country Gender Demographics Question  \\\n",
       "0         1  Afghanistan      F        Marital status   \n",
       "1         1  Afghanistan      F             Education   \n",
       "2         1  Afghanistan      F             Education   \n",
       "3         1  Afghanistan      F             Education   \n",
       "4         1  Afghanistan      F        Marital status   \n",
       "\n",
       "          Demographics Response                   Question Survey Year  Value  \n",
       "0                 Never married  ... if she burns the food  01/01/2015    NaN  \n",
       "1                        Higher  ... if she burns the food  01/01/2015   10.1  \n",
       "2                     Secondary  ... if she burns the food  01/01/2015   13.7  \n",
       "3                       Primary  ... if she burns the food  01/01/2015   13.8  \n",
       "4  Widowed, divorced, separated  ... if she burns the food  01/01/2015   13.8  "
      ]
     },
     "execution_count": 67,
     "metadata": {},
     "output_type": "execute_result"
    }
   ],
   "source": [
    "# looking at the data\n",
    "\n",
    "df3 = pd.read_csv('violence_data.csv')\n",
    "df3.head()\n"
   ]
  },
  {
   "cell_type": "markdown",
   "metadata": {},
   "source": [
    "### Assessing the Data\n"
   ]
  },
  {
   "cell_type": "code",
   "execution_count": 90,
   "metadata": {},
   "outputs": [
    {
     "name": "stdout",
     "output_type": "stream",
     "text": [
      "The dataset has 12600 rows and 8 columns.\n",
      "\n",
      "<class 'pandas.core.frame.DataFrame'>\n",
      "RangeIndex: 12600 entries, 0 to 12599\n",
      "Data columns (total 8 columns):\n",
      " #   Column                 Non-Null Count  Dtype  \n",
      "---  ------                 --------------  -----  \n",
      " 0   RecordID               12600 non-null  int64  \n",
      " 1   Country                12600 non-null  object \n",
      " 2   Gender                 12600 non-null  object \n",
      " 3   Demographics Question  12600 non-null  object \n",
      " 4   Demographics Response  12600 non-null  object \n",
      " 5   Question               12600 non-null  object \n",
      " 6   Survey Year            12600 non-null  object \n",
      " 7   Value                  11187 non-null  float64\n",
      "dtypes: float64(1), int64(1), object(6)\n",
      "memory usage: 787.6+ KB\n",
      "These 8 columns are described above and the data types they contain   None\n"
     ]
    }
   ],
   "source": [
    "\n",
    "def explorer(data):\n",
    "    '''\n",
    "    INPUT:\n",
    "    data - the pandas dataframe being explored\n",
    "    '''\n",
    "    \n",
    "    shape = data.shape\n",
    "    print(\"The dataset has {} rows and {} columns.\\n\" .format(shape[0], shape[1]))\n",
    "    print(\"These 8 columns are described above and the data types they contain  \", data.info())\n",
    "    \n",
    "explorer(df)\n"
   ]
  },
  {
   "cell_type": "code",
   "execution_count": 71,
   "metadata": {},
   "outputs": [
    {
     "data": {
      "text/html": [
       "<div>\n",
       "<style scoped>\n",
       "    .dataframe tbody tr th:only-of-type {\n",
       "        vertical-align: middle;\n",
       "    }\n",
       "\n",
       "    .dataframe tbody tr th {\n",
       "        vertical-align: top;\n",
       "    }\n",
       "\n",
       "    .dataframe thead th {\n",
       "        text-align: right;\n",
       "    }\n",
       "</style>\n",
       "<table border=\"1\" class=\"dataframe\">\n",
       "  <thead>\n",
       "    <tr style=\"text-align: right;\">\n",
       "      <th></th>\n",
       "      <th>RecordID</th>\n",
       "      <th>Country</th>\n",
       "      <th>Gender</th>\n",
       "      <th>Demographics Question</th>\n",
       "      <th>Demographics Response</th>\n",
       "      <th>Question</th>\n",
       "      <th>Survey Year</th>\n",
       "      <th>Value</th>\n",
       "    </tr>\n",
       "  </thead>\n",
       "  <tbody>\n",
       "    <tr>\n",
       "      <th>count</th>\n",
       "      <td>12600.000000</td>\n",
       "      <td>12600</td>\n",
       "      <td>12600</td>\n",
       "      <td>12600</td>\n",
       "      <td>12600</td>\n",
       "      <td>12600</td>\n",
       "      <td>12600</td>\n",
       "      <td>11187.000000</td>\n",
       "    </tr>\n",
       "    <tr>\n",
       "      <th>unique</th>\n",
       "      <td>NaN</td>\n",
       "      <td>70</td>\n",
       "      <td>2</td>\n",
       "      <td>5</td>\n",
       "      <td>15</td>\n",
       "      <td>6</td>\n",
       "      <td>18</td>\n",
       "      <td>NaN</td>\n",
       "    </tr>\n",
       "    <tr>\n",
       "      <th>top</th>\n",
       "      <td>NaN</td>\n",
       "      <td>Madagascar</td>\n",
       "      <td>F</td>\n",
       "      <td>Education</td>\n",
       "      <td>35-49</td>\n",
       "      <td>... if she refuses to have sex with him</td>\n",
       "      <td>01/01/2013</td>\n",
       "      <td>NaN</td>\n",
       "    </tr>\n",
       "    <tr>\n",
       "      <th>freq</th>\n",
       "      <td>NaN</td>\n",
       "      <td>180</td>\n",
       "      <td>6300</td>\n",
       "      <td>3360</td>\n",
       "      <td>840</td>\n",
       "      <td>2100</td>\n",
       "      <td>1980</td>\n",
       "      <td>NaN</td>\n",
       "    </tr>\n",
       "    <tr>\n",
       "      <th>mean</th>\n",
       "      <td>210.500000</td>\n",
       "      <td>NaN</td>\n",
       "      <td>NaN</td>\n",
       "      <td>NaN</td>\n",
       "      <td>NaN</td>\n",
       "      <td>NaN</td>\n",
       "      <td>NaN</td>\n",
       "      <td>19.762537</td>\n",
       "    </tr>\n",
       "    <tr>\n",
       "      <th>std</th>\n",
       "      <td>121.248024</td>\n",
       "      <td>NaN</td>\n",
       "      <td>NaN</td>\n",
       "      <td>NaN</td>\n",
       "      <td>NaN</td>\n",
       "      <td>NaN</td>\n",
       "      <td>NaN</td>\n",
       "      <td>16.986437</td>\n",
       "    </tr>\n",
       "    <tr>\n",
       "      <th>min</th>\n",
       "      <td>1.000000</td>\n",
       "      <td>NaN</td>\n",
       "      <td>NaN</td>\n",
       "      <td>NaN</td>\n",
       "      <td>NaN</td>\n",
       "      <td>NaN</td>\n",
       "      <td>NaN</td>\n",
       "      <td>0.000000</td>\n",
       "    </tr>\n",
       "    <tr>\n",
       "      <th>25%</th>\n",
       "      <td>105.750000</td>\n",
       "      <td>NaN</td>\n",
       "      <td>NaN</td>\n",
       "      <td>NaN</td>\n",
       "      <td>NaN</td>\n",
       "      <td>NaN</td>\n",
       "      <td>NaN</td>\n",
       "      <td>6.200000</td>\n",
       "    </tr>\n",
       "    <tr>\n",
       "      <th>50%</th>\n",
       "      <td>210.500000</td>\n",
       "      <td>NaN</td>\n",
       "      <td>NaN</td>\n",
       "      <td>NaN</td>\n",
       "      <td>NaN</td>\n",
       "      <td>NaN</td>\n",
       "      <td>NaN</td>\n",
       "      <td>14.900000</td>\n",
       "    </tr>\n",
       "    <tr>\n",
       "      <th>75%</th>\n",
       "      <td>315.250000</td>\n",
       "      <td>NaN</td>\n",
       "      <td>NaN</td>\n",
       "      <td>NaN</td>\n",
       "      <td>NaN</td>\n",
       "      <td>NaN</td>\n",
       "      <td>NaN</td>\n",
       "      <td>29.200000</td>\n",
       "    </tr>\n",
       "    <tr>\n",
       "      <th>max</th>\n",
       "      <td>420.000000</td>\n",
       "      <td>NaN</td>\n",
       "      <td>NaN</td>\n",
       "      <td>NaN</td>\n",
       "      <td>NaN</td>\n",
       "      <td>NaN</td>\n",
       "      <td>NaN</td>\n",
       "      <td>86.900000</td>\n",
       "    </tr>\n",
       "  </tbody>\n",
       "</table>\n",
       "</div>"
      ],
      "text/plain": [
       "            RecordID     Country Gender Demographics Question  \\\n",
       "count   12600.000000       12600  12600                 12600   \n",
       "unique           NaN          70      2                     5   \n",
       "top              NaN  Madagascar      F             Education   \n",
       "freq             NaN         180   6300                  3360   \n",
       "mean      210.500000         NaN    NaN                   NaN   \n",
       "std       121.248024         NaN    NaN                   NaN   \n",
       "min         1.000000         NaN    NaN                   NaN   \n",
       "25%       105.750000         NaN    NaN                   NaN   \n",
       "50%       210.500000         NaN    NaN                   NaN   \n",
       "75%       315.250000         NaN    NaN                   NaN   \n",
       "max       420.000000         NaN    NaN                   NaN   \n",
       "\n",
       "       Demographics Response                                 Question  \\\n",
       "count                  12600                                    12600   \n",
       "unique                    15                                        6   \n",
       "top                    35-49  ... if she refuses to have sex with him   \n",
       "freq                     840                                     2100   \n",
       "mean                     NaN                                      NaN   \n",
       "std                      NaN                                      NaN   \n",
       "min                      NaN                                      NaN   \n",
       "25%                      NaN                                      NaN   \n",
       "50%                      NaN                                      NaN   \n",
       "75%                      NaN                                      NaN   \n",
       "max                      NaN                                      NaN   \n",
       "\n",
       "       Survey Year         Value  \n",
       "count        12600  11187.000000  \n",
       "unique          18           NaN  \n",
       "top     01/01/2013           NaN  \n",
       "freq          1980           NaN  \n",
       "mean           NaN     19.762537  \n",
       "std            NaN     16.986437  \n",
       "min            NaN      0.000000  \n",
       "25%            NaN      6.200000  \n",
       "50%            NaN     14.900000  \n",
       "75%            NaN     29.200000  \n",
       "max            NaN     86.900000  "
      ]
     },
     "execution_count": 71,
     "metadata": {},
     "output_type": "execute_result"
    }
   ],
   "source": [
    "df.describe(include='all')"
   ]
  },
  {
   "cell_type": "markdown",
   "metadata": {},
   "source": [
    "- The dataset is made up of 12600 rows and 8 columns. \n",
    "- there are 70 countries included in the survey.\n",
    "- each respondent was asked 6 questions.\n",
    "\n",
    "\n",
    "Next I explore the countries, questions and demographic questions covered in this study. "
   ]
  },
  {
   "cell_type": "code",
   "execution_count": 72,
   "metadata": {},
   "outputs": [
    {
     "data": {
      "text/plain": [
       "array(['Marital status', 'Education', 'Employment', 'Age', 'Residence'],\n",
       "      dtype=object)"
      ]
     },
     "execution_count": 72,
     "metadata": {},
     "output_type": "execute_result"
    }
   ],
   "source": [
    "df['Demographics Question'].unique()"
   ]
  },
  {
   "cell_type": "code",
   "execution_count": 73,
   "metadata": {},
   "outputs": [
    {
     "name": "stdout",
     "output_type": "stream",
     "text": [
      "['Afghanistan' 'Albania' 'Angola' 'Armenia' 'Azerbaijan' 'Bangladesh'\n",
      " 'Benin' 'Bolivia' 'Burkina Faso' 'Burundi' 'Cambodia' 'Cameroon' 'Chad'\n",
      " 'Colombia' 'Comoros' 'Congo' 'Congo Democratic Republic' \"Cote d'Ivoire\"\n",
      " 'Dominican Republic' 'Egypt' 'Eritrea' 'Eswatini' 'Ethiopia' 'Gabon'\n",
      " 'Gambia' 'Ghana' 'Guatemala' 'Guinea' 'Guyana' 'Haiti' 'Honduras' 'India'\n",
      " 'Indonesia' 'Jordan' 'Kenya' 'Kyrgyz Republic' 'Lesotho' 'Liberia'\n",
      " 'Madagascar' 'Malawi' 'Maldives' 'Mali' 'Moldova' 'Morocco' 'Mozambique'\n",
      " 'Myanmar' 'Namibia' 'Nepal' 'Nicaragua' 'Niger' 'Nigeria' 'Pakistan'\n",
      " 'Peru' 'Philippines' 'Rwanda' 'Sao Tome and Principe' 'Senegal'\n",
      " 'Sierra Leone' 'South Africa' 'Tajikistan' 'Tanzania' 'Timor-Leste'\n",
      " 'Togo' 'Turkey' 'Turkmenistan' 'Uganda' 'Ukraine' 'Yemen' 'Zambia'\n",
      " 'Zimbabwe']\n"
     ]
    }
   ],
   "source": [
    "print(df.Country.unique())"
   ]
  },
  {
   "cell_type": "code",
   "execution_count": 74,
   "metadata": {},
   "outputs": [
    {
     "data": {
      "text/plain": [
       "array(['... if she burns the food',\n",
       "       '... for at least one specific reason',\n",
       "       '... if she argues with him',\n",
       "       '... if she goes out without telling him',\n",
       "       '... if she neglects the children',\n",
       "       '... if she refuses to have sex with him'], dtype=object)"
      ]
     },
     "execution_count": 74,
     "metadata": {},
     "output_type": "execute_result"
    }
   ],
   "source": [
    "df.Question.unique()"
   ]
  },
  {
   "cell_type": "code",
   "execution_count": 75,
   "metadata": {
    "scrolled": true
   },
   "outputs": [
    {
     "data": {
      "text/html": [
       "<div>\n",
       "<style scoped>\n",
       "    .dataframe tbody tr th:only-of-type {\n",
       "        vertical-align: middle;\n",
       "    }\n",
       "\n",
       "    .dataframe tbody tr th {\n",
       "        vertical-align: top;\n",
       "    }\n",
       "\n",
       "    .dataframe thead th {\n",
       "        text-align: right;\n",
       "    }\n",
       "</style>\n",
       "<table border=\"1\" class=\"dataframe\">\n",
       "  <thead>\n",
       "    <tr style=\"text-align: right;\">\n",
       "      <th></th>\n",
       "      <th>RecordID</th>\n",
       "      <th>Country</th>\n",
       "      <th>Gender</th>\n",
       "      <th>Demographics Question</th>\n",
       "      <th>Demographics Response</th>\n",
       "      <th>Question</th>\n",
       "      <th>Survey Year</th>\n",
       "      <th>Value</th>\n",
       "    </tr>\n",
       "  </thead>\n",
       "  <tbody>\n",
       "    <tr>\n",
       "      <th>6120</th>\n",
       "      <td>385</td>\n",
       "      <td>Kenya</td>\n",
       "      <td>F</td>\n",
       "      <td>Age</td>\n",
       "      <td>15-24</td>\n",
       "      <td>... for at least one specific reason</td>\n",
       "      <td>01/01/2014</td>\n",
       "      <td>42.0</td>\n",
       "    </tr>\n",
       "    <tr>\n",
       "      <th>6121</th>\n",
       "      <td>385</td>\n",
       "      <td>Kenya</td>\n",
       "      <td>F</td>\n",
       "      <td>Age</td>\n",
       "      <td>25-34</td>\n",
       "      <td>... for at least one specific reason</td>\n",
       "      <td>01/01/2014</td>\n",
       "      <td>39.8</td>\n",
       "    </tr>\n",
       "    <tr>\n",
       "      <th>6122</th>\n",
       "      <td>385</td>\n",
       "      <td>Kenya</td>\n",
       "      <td>F</td>\n",
       "      <td>Age</td>\n",
       "      <td>35-49</td>\n",
       "      <td>... for at least one specific reason</td>\n",
       "      <td>01/01/2014</td>\n",
       "      <td>44.0</td>\n",
       "    </tr>\n",
       "    <tr>\n",
       "      <th>6123</th>\n",
       "      <td>105</td>\n",
       "      <td>Kenya</td>\n",
       "      <td>F</td>\n",
       "      <td>Age</td>\n",
       "      <td>15-24</td>\n",
       "      <td>... if she argues with him</td>\n",
       "      <td>01/01/2014</td>\n",
       "      <td>20.9</td>\n",
       "    </tr>\n",
       "    <tr>\n",
       "      <th>6124</th>\n",
       "      <td>105</td>\n",
       "      <td>Kenya</td>\n",
       "      <td>F</td>\n",
       "      <td>Age</td>\n",
       "      <td>25-34</td>\n",
       "      <td>... if she argues with him</td>\n",
       "      <td>01/01/2014</td>\n",
       "      <td>20.1</td>\n",
       "    </tr>\n",
       "  </tbody>\n",
       "</table>\n",
       "</div>"
      ],
      "text/plain": [
       "      RecordID Country Gender Demographics Question Demographics Response  \\\n",
       "6120       385   Kenya      F                   Age                 15-24   \n",
       "6121       385   Kenya      F                   Age                 25-34   \n",
       "6122       385   Kenya      F                   Age                 35-49   \n",
       "6123       105   Kenya      F                   Age                 15-24   \n",
       "6124       105   Kenya      F                   Age                 25-34   \n",
       "\n",
       "                                  Question Survey Year  Value  \n",
       "6120  ... for at least one specific reason  01/01/2014   42.0  \n",
       "6121  ... for at least one specific reason  01/01/2014   39.8  \n",
       "6122  ... for at least one specific reason  01/01/2014   44.0  \n",
       "6123            ... if she argues with him  01/01/2014   20.9  \n",
       "6124            ... if she argues with him  01/01/2014   20.1  "
      ]
     },
     "execution_count": 75,
     "metadata": {},
     "output_type": "execute_result"
    }
   ],
   "source": [
    "Kenya_GV = df[df.Country == \"Kenya\"]\n",
    "Kenya_GV.head()"
   ]
  },
  {
   "cell_type": "code",
   "execution_count": 76,
   "metadata": {},
   "outputs": [
    {
     "name": "stdout",
     "output_type": "stream",
     "text": [
      "Empty DataFrame\n",
      "Columns: [RecordID, Country, Gender, Demographics Question, Demographics Response, Question, Survey Year, Value]\n",
      "Index: []\n"
     ]
    }
   ],
   "source": [
    "Kenya_graph = Kenya_GV[Kenya_GV['Demographics Question'] == 'Marital Status']\n",
    "print(Kenya_graph)"
   ]
  },
  {
   "cell_type": "markdown",
   "metadata": {},
   "source": [
    "### Visualizing"
   ]
  },
  {
   "cell_type": "code",
   "execution_count": 77,
   "metadata": {},
   "outputs": [
    {
     "data": {
      "text/plain": [
       "Text(0.5, 1.05, 'Kenyans agreeing a husband is justified in hitting his wife based on thier level of education')"
      ]
     },
     "execution_count": 77,
     "metadata": {},
     "output_type": "execute_result"
    },
    {
     "data": {
      "image/png": "[encoded data removed]",
      "text/plain": [
       "<Figure size 583.25x360 with 1 Axes>"
      ]
     },
     "metadata": {
      "needs_background": "light"
     },
     "output_type": "display_data"
    }
   ],
   "source": [
    "Kenya_graph = Kenya_GV[Kenya_GV['Demographics Question'] == 'Education']\n",
    "Kenya_chart = sns.catplot(x = 'Demographics Response', y = 'Value', hue = 'Question',\n",
    "                         order = ['No education', 'Primary', 'Secondary', 'Higher'],\n",
    "                         data = Kenya_graph, kind = 'bar', ci=None)\n",
    "Kenya_chart.set_axis_labels('Education Level', 'Percentage (%)')\n",
    "Kenya_chart.fig.suptitle('Kenyans agreeing a husband is justified in hitting his wife based on thier level of education', y=1.05)"
   ]
  },
  {
   "cell_type": "markdown",
   "metadata": {},
   "source": [
    "Next I visualise the gender violence in Kenya justification based on residence"
   ]
  },
  {
   "cell_type": "code",
   "execution_count": 78,
   "metadata": {},
   "outputs": [
    {
     "data": {
      "text/plain": [
       "Text(0.5, 1.05, 'Kenyans agreeing a husband is justified in hitting his wife based on where they reside')"
      ]
     },
     "execution_count": 78,
     "metadata": {},
     "output_type": "execute_result"
    },
    {
     "data": {
      "image/png": "[encoded data removed]",
      "text/plain": [
       "<Figure size 404.875x360 with 1 Axes>"
      ]
     },
     "metadata": {
      "needs_background": "light"
     },
     "output_type": "display_data"
    }
   ],
   "source": [
    "Kenya_graph = Kenya_GV[Kenya_GV['Demographics Question'] == 'Residence']\n",
    "Kenya_chart = sns.catplot(x = 'Demographics Response', y = 'Value', hue = 'Gender',\n",
    "                         order = ['Urban', 'Rural'],\n",
    "                         data = Kenya_graph, kind = 'bar', ci=None)\n",
    "Kenya_chart.set_axis_labels('Residence', 'Percentage (%)')\n",
    "Kenya_chart.fig.suptitle('Kenyans agreeing a husband is justified in hitting his wife based on where they reside', y=1.05)"
   ]
  },
  {
   "cell_type": "markdown",
   "metadata": {},
   "source": [
    "From the chart above it seem that more females in rural areas support that the husband is more justified to hit the woman for any of the listed reason while more men in urban centers support this ideology. males in rural areas are therefore more inclined towards not hitting the woman than the women are in this areas. the vice versa is true for those in urban residence.\n",
    "\n",
    "Below I compare how age relates to how the women feel about their husbands being justified to hit them if they err."
   ]
  },
  {
   "cell_type": "code",
   "execution_count": 79,
   "metadata": {},
   "outputs": [
    {
     "data": {
      "text/plain": [
       "Text(0.5, 1.05, 'kenyan women agreeing a husband is justified in hitting his wife vs, Age')"
      ]
     },
     "execution_count": 79,
     "metadata": {},
     "output_type": "execute_result"
    },
    {
     "data": {
      "image/png": "[encoded data removed]",
      "text/plain": [
       "<Figure size 360x360 with 1 Axes>"
      ]
     },
     "metadata": {
      "needs_background": "light"
     },
     "output_type": "display_data"
    }
   ],
   "source": [
    "Kenya_graph = Kenya_GV[(Kenya_GV['Demographics Question'] == 'Age') & (Kenya_GV['Gender'] == 'F')]\n",
    "Kenya_chart = sns.catplot(x='Demographics Response', y='Value',\n",
    "                         data = Kenya_graph, kind='bar', ci=None)\n",
    "Kenya_chart.set_axis_labels('Age', 'Percentage (%)')\n",
    "Kenya_chart.fig.suptitle('kenyan women agreeing a husband is justified in hitting his wife vs, Age', y=1.05)"
   ]
  },
  {
   "cell_type": "markdown",
   "metadata": {},
   "source": [
    "From the chart it looks like the younger women are agaisnt the husband hittign their wives while the older women, between 35-49 years are for the idea that the women should be hit if they err. "
   ]
  },
  {
   "cell_type": "markdown",
   "metadata": {},
   "source": [
    "Next I will compare Kenyan agreement with phillipines. The two countries are in differnt continents and difffernt economic development levels. "
   ]
  },
  {
   "cell_type": "code",
   "execution_count": 80,
   "metadata": {},
   "outputs": [
    {
     "data": {
      "text/html": [
       "<div>\n",
       "<style scoped>\n",
       "    .dataframe tbody tr th:only-of-type {\n",
       "        vertical-align: middle;\n",
       "    }\n",
       "\n",
       "    .dataframe tbody tr th {\n",
       "        vertical-align: top;\n",
       "    }\n",
       "\n",
       "    .dataframe thead th {\n",
       "        text-align: right;\n",
       "    }\n",
       "</style>\n",
       "<table border=\"1\" class=\"dataframe\">\n",
       "  <thead>\n",
       "    <tr style=\"text-align: right;\">\n",
       "      <th></th>\n",
       "      <th>RecordID</th>\n",
       "      <th>Country</th>\n",
       "      <th>Gender</th>\n",
       "      <th>Demographics Question</th>\n",
       "      <th>Demographics Response</th>\n",
       "      <th>Question</th>\n",
       "      <th>Survey Year</th>\n",
       "      <th>Value</th>\n",
       "    </tr>\n",
       "  </thead>\n",
       "  <tbody>\n",
       "    <tr>\n",
       "      <th>4680</th>\n",
       "      <td>27</td>\n",
       "      <td>Guatemala</td>\n",
       "      <td>F</td>\n",
       "      <td>Education</td>\n",
       "      <td>Higher</td>\n",
       "      <td>... if she burns the food</td>\n",
       "      <td>01/01/2014</td>\n",
       "      <td>0.1</td>\n",
       "    </tr>\n",
       "    <tr>\n",
       "      <th>4681</th>\n",
       "      <td>27</td>\n",
       "      <td>Guatemala</td>\n",
       "      <td>F</td>\n",
       "      <td>Education</td>\n",
       "      <td>Secondary</td>\n",
       "      <td>... if she burns the food</td>\n",
       "      <td>01/01/2014</td>\n",
       "      <td>1.1</td>\n",
       "    </tr>\n",
       "    <tr>\n",
       "      <th>4682</th>\n",
       "      <td>27</td>\n",
       "      <td>Guatemala</td>\n",
       "      <td>F</td>\n",
       "      <td>Residence</td>\n",
       "      <td>Urban</td>\n",
       "      <td>... if she burns the food</td>\n",
       "      <td>01/01/2014</td>\n",
       "      <td>1.8</td>\n",
       "    </tr>\n",
       "    <tr>\n",
       "      <th>4683</th>\n",
       "      <td>27</td>\n",
       "      <td>Guatemala</td>\n",
       "      <td>F</td>\n",
       "      <td>Employment</td>\n",
       "      <td>Employed for cash</td>\n",
       "      <td>... if she burns the food</td>\n",
       "      <td>01/01/2014</td>\n",
       "      <td>3.2</td>\n",
       "    </tr>\n",
       "    <tr>\n",
       "      <th>4684</th>\n",
       "      <td>27</td>\n",
       "      <td>Guatemala</td>\n",
       "      <td>F</td>\n",
       "      <td>Age</td>\n",
       "      <td>25-34</td>\n",
       "      <td>... if she burns the food</td>\n",
       "      <td>01/01/2014</td>\n",
       "      <td>3.4</td>\n",
       "    </tr>\n",
       "    <tr>\n",
       "      <th>...</th>\n",
       "      <td>...</td>\n",
       "      <td>...</td>\n",
       "      <td>...</td>\n",
       "      <td>...</td>\n",
       "      <td>...</td>\n",
       "      <td>...</td>\n",
       "      <td>...</td>\n",
       "      <td>...</td>\n",
       "    </tr>\n",
       "    <tr>\n",
       "      <th>6295</th>\n",
       "      <td>175</td>\n",
       "      <td>Kenya</td>\n",
       "      <td>M</td>\n",
       "      <td>Residence</td>\n",
       "      <td>Urban</td>\n",
       "      <td>... if she goes out without telling him</td>\n",
       "      <td>01/01/2014</td>\n",
       "      <td>16.1</td>\n",
       "    </tr>\n",
       "    <tr>\n",
       "      <th>6296</th>\n",
       "      <td>245</td>\n",
       "      <td>Kenya</td>\n",
       "      <td>M</td>\n",
       "      <td>Residence</td>\n",
       "      <td>Rural</td>\n",
       "      <td>... if she neglects the children</td>\n",
       "      <td>01/01/2014</td>\n",
       "      <td>27.7</td>\n",
       "    </tr>\n",
       "    <tr>\n",
       "      <th>6297</th>\n",
       "      <td>245</td>\n",
       "      <td>Kenya</td>\n",
       "      <td>M</td>\n",
       "      <td>Residence</td>\n",
       "      <td>Urban</td>\n",
       "      <td>... if she neglects the children</td>\n",
       "      <td>01/01/2014</td>\n",
       "      <td>26.9</td>\n",
       "    </tr>\n",
       "    <tr>\n",
       "      <th>6298</th>\n",
       "      <td>315</td>\n",
       "      <td>Kenya</td>\n",
       "      <td>M</td>\n",
       "      <td>Residence</td>\n",
       "      <td>Rural</td>\n",
       "      <td>... if she refuses to have sex with him</td>\n",
       "      <td>01/01/2014</td>\n",
       "      <td>10.9</td>\n",
       "    </tr>\n",
       "    <tr>\n",
       "      <th>6299</th>\n",
       "      <td>315</td>\n",
       "      <td>Kenya</td>\n",
       "      <td>M</td>\n",
       "      <td>Residence</td>\n",
       "      <td>Urban</td>\n",
       "      <td>... if she refuses to have sex with him</td>\n",
       "      <td>01/01/2014</td>\n",
       "      <td>8.6</td>\n",
       "    </tr>\n",
       "  </tbody>\n",
       "</table>\n",
       "<p>540 rows × 8 columns</p>\n",
       "</div>"
      ],
      "text/plain": [
       "      RecordID    Country Gender Demographics Question Demographics Response  \\\n",
       "4680        27  Guatemala      F             Education                Higher   \n",
       "4681        27  Guatemala      F             Education             Secondary   \n",
       "4682        27  Guatemala      F             Residence                 Urban   \n",
       "4683        27  Guatemala      F            Employment     Employed for cash   \n",
       "4684        27  Guatemala      F                   Age                 25-34   \n",
       "...        ...        ...    ...                   ...                   ...   \n",
       "6295       175      Kenya      M             Residence                 Urban   \n",
       "6296       245      Kenya      M             Residence                 Rural   \n",
       "6297       245      Kenya      M             Residence                 Urban   \n",
       "6298       315      Kenya      M             Residence                 Rural   \n",
       "6299       315      Kenya      M             Residence                 Urban   \n",
       "\n",
       "                                     Question Survey Year  Value  \n",
       "4680                ... if she burns the food  01/01/2014    0.1  \n",
       "4681                ... if she burns the food  01/01/2014    1.1  \n",
       "4682                ... if she burns the food  01/01/2014    1.8  \n",
       "4683                ... if she burns the food  01/01/2014    3.2  \n",
       "4684                ... if she burns the food  01/01/2014    3.4  \n",
       "...                                       ...         ...    ...  \n",
       "6295  ... if she goes out without telling him  01/01/2014   16.1  \n",
       "6296         ... if she neglects the children  01/01/2014   27.7  \n",
       "6297         ... if she neglects the children  01/01/2014   26.9  \n",
       "6298  ... if she refuses to have sex with him  01/01/2014   10.9  \n",
       "6299  ... if she refuses to have sex with him  01/01/2014    8.6  \n",
       "\n",
       "[540 rows x 8 columns]"
      ]
     },
     "execution_count": 80,
     "metadata": {},
     "output_type": "execute_result"
    }
   ],
   "source": [
    "compare_countries = df[(df.Country == \"Kenya\") | (df.Country == \"Guatemala\") | (df.Country == \"Indonesia\")]\n",
    "compare_countries"
   ]
  },
  {
   "cell_type": "markdown",
   "metadata": {},
   "source": [
    "###### Now let's visualise this in a chart and see how the two countries compare"
   ]
  },
  {
   "cell_type": "code",
   "execution_count": 81,
   "metadata": {
    "scrolled": true
   },
   "outputs": [
    {
     "data": {
      "text/plain": [
       "Text(0.5, 1.05, 'Those agreeing a husband is justified in hitting his wife and their education levels')"
      ]
     },
     "execution_count": 81,
     "metadata": {},
     "output_type": "execute_result"
    },
    {
     "data": {
      "image/png": "[encoded data removed]",
      "text/plain": [
       "<Figure size 1080x720 with 6 Axes>"
      ]
     },
     "metadata": {
      "needs_background": "light"
     },
     "output_type": "display_data"
    }
   ],
   "source": [
    "graph = compare_countries[compare_countries['Demographics Question'] == 'Education']\n",
    "\n",
    "g = sns.catplot(x='Demographics Response', y='Value', col='Country', row='Gender',\n",
    "               order = [\"No education\", \"Primary\", \"Secondary\", \"Higher\"],\n",
    "               data=graph, kind='bar', ci=None)\n",
    "g.set_axis_labels('Education Level', 'Percentage (%)')\n",
    "g.fig.suptitle(\"Those agreeing a husband is justified in hitting his wife and their education levels\", y=1.05)"
   ]
  },
  {
   "cell_type": "markdown",
   "metadata": {},
   "source": [
    "Something interesting is notable from these charts and countries, while in kenya women with no education are in support of the husband being justified to hit a woman, in Indonesia, a substantial of women who are educated to primary evel and secondary supoort gender violence while those uneducated tend to not support it. This however can be attributed to the number of women who responded to the questions."
   ]
  },
  {
   "cell_type": "code",
   "execution_count": null,
   "metadata": {},
   "outputs": [],
   "source": []
  }
 ],
 "metadata": {
  "kernelspec": {
   "display_name": "Python 3",
   "language": "python",
   "name": "python3"
  },
  "language_info": {
   "codemirror_mode": {
    "name": "ipython",
    "version": 3
   },
   "file_extension": ".py",
   "mimetype": "text/x-python",
   "name": "python",
   "nbconvert_exporter": "python",
   "pygments_lexer": "ipython3",
   "version": "3.8.5"
  }
 },
 "nbformat": 4,
 "nbformat_minor": 4
}
