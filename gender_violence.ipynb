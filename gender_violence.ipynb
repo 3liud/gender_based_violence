{
 "cells": [
  {
   "cell_type": "markdown",
   "metadata": {},
   "source": [
    "## Gender based violence Project\n",
    "exploring gender based violence survey dataset."
   ]
  },
  {
   "cell_type": "markdown",
   "metadata": {},
   "source": [
    "This project looks at a survey that focused on \"Violence against women and girls\" in over 70 countries. The data was downloaded from kaggle link https://www.kaggle.com/andrewmvd/violence-against-women-and-girls. In this analysis I focus on answering three questions:\n",
    "- Gender violence in Kenya\n",
    "- what was the most common reason given in the survey as to why women were beaten.\n",
    "- what was the most common form of violence acts committed."
   ]
  },
  {
   "cell_type": "code",
   "execution_count": 40,
   "metadata": {},
   "outputs": [],
   "source": [
    "# loading the necessary libraries\n",
    "\n",
    "import pandas as pd\n",
    "import numpy as np\n",
    "import matplotlib.pyplot as plt\n",
    "from sklearn.linear_model import LinearRegression\n",
    "from sklearn.model_selection import train_test_split\n",
    "from sklearn.metrics import r2_score, mean_squared_error\n",
    "import seaborn as sns\n",
    "%matplotlib inline"
   ]
  },
  {
   "cell_type": "code",
   "execution_count": 41,
   "metadata": {},
   "outputs": [
    {
     "data": {
      "text/html": [
       "<div>\n",
       "<style scoped>\n",
       "    .dataframe tbody tr th:only-of-type {\n",
       "        vertical-align: middle;\n",
       "    }\n",
       "\n",
       "    .dataframe tbody tr th {\n",
       "        vertical-align: top;\n",
       "    }\n",
       "\n",
       "    .dataframe thead th {\n",
       "        text-align: right;\n",
       "    }\n",
       "</style>\n",
       "<table border=\"1\" class=\"dataframe\">\n",
       "  <thead>\n",
       "    <tr style=\"text-align: right;\">\n",
       "      <th></th>\n",
       "      <th>RecordID</th>\n",
       "      <th>Country</th>\n",
       "      <th>Gender</th>\n",
       "      <th>Demographics Question</th>\n",
       "      <th>Demographics Response</th>\n",
       "      <th>Question</th>\n",
       "      <th>Survey Year</th>\n",
       "      <th>Value</th>\n",
       "    </tr>\n",
       "  </thead>\n",
       "  <tbody>\n",
       "    <tr>\n",
       "      <th>0</th>\n",
       "      <td>1</td>\n",
       "      <td>Afghanistan</td>\n",
       "      <td>F</td>\n",
       "      <td>Marital status</td>\n",
       "      <td>Never married</td>\n",
       "      <td>... if she burns the food</td>\n",
       "      <td>01/01/2015</td>\n",
       "      <td>NaN</td>\n",
       "    </tr>\n",
       "    <tr>\n",
       "      <th>1</th>\n",
       "      <td>1</td>\n",
       "      <td>Afghanistan</td>\n",
       "      <td>F</td>\n",
       "      <td>Education</td>\n",
       "      <td>Higher</td>\n",
       "      <td>... if she burns the food</td>\n",
       "      <td>01/01/2015</td>\n",
       "      <td>10.1</td>\n",
       "    </tr>\n",
       "    <tr>\n",
       "      <th>2</th>\n",
       "      <td>1</td>\n",
       "      <td>Afghanistan</td>\n",
       "      <td>F</td>\n",
       "      <td>Education</td>\n",
       "      <td>Secondary</td>\n",
       "      <td>... if she burns the food</td>\n",
       "      <td>01/01/2015</td>\n",
       "      <td>13.7</td>\n",
       "    </tr>\n",
       "    <tr>\n",
       "      <th>3</th>\n",
       "      <td>1</td>\n",
       "      <td>Afghanistan</td>\n",
       "      <td>F</td>\n",
       "      <td>Education</td>\n",
       "      <td>Primary</td>\n",
       "      <td>... if she burns the food</td>\n",
       "      <td>01/01/2015</td>\n",
       "      <td>13.8</td>\n",
       "    </tr>\n",
       "    <tr>\n",
       "      <th>4</th>\n",
       "      <td>1</td>\n",
       "      <td>Afghanistan</td>\n",
       "      <td>F</td>\n",
       "      <td>Marital status</td>\n",
       "      <td>Widowed, divorced, separated</td>\n",
       "      <td>... if she burns the food</td>\n",
       "      <td>01/01/2015</td>\n",
       "      <td>13.8</td>\n",
       "    </tr>\n",
       "  </tbody>\n",
       "</table>\n",
       "</div>"
      ],
      "text/plain": [
       "   RecordID      Country Gender Demographics Question  \\\n",
       "0         1  Afghanistan      F        Marital status   \n",
       "1         1  Afghanistan      F             Education   \n",
       "2         1  Afghanistan      F             Education   \n",
       "3         1  Afghanistan      F             Education   \n",
       "4         1  Afghanistan      F        Marital status   \n",
       "\n",
       "          Demographics Response                   Question Survey Year  Value  \n",
       "0                 Never married  ... if she burns the food  01/01/2015    NaN  \n",
       "1                        Higher  ... if she burns the food  01/01/2015   10.1  \n",
       "2                     Secondary  ... if she burns the food  01/01/2015   13.7  \n",
       "3                       Primary  ... if she burns the food  01/01/2015   13.8  \n",
       "4  Widowed, divorced, separated  ... if she burns the food  01/01/2015   13.8  "
      ]
     },
     "execution_count": 41,
     "metadata": {},
     "output_type": "execute_result"
    }
   ],
   "source": [
    "# looking at the data\n",
    "df = pd.read_csv('violence_data.csv')\n",
    "df.head()"
   ]
  },
  {
   "cell_type": "code",
   "execution_count": 42,
   "metadata": {},
   "outputs": [
    {
     "data": {
      "text/plain": [
       "(12600, 8)"
      ]
     },
     "execution_count": 42,
     "metadata": {},
     "output_type": "execute_result"
    }
   ],
   "source": [
    "df.shape"
   ]
  },
  {
   "cell_type": "code",
   "execution_count": 43,
   "metadata": {},
   "outputs": [
    {
     "name": "stdout",
     "output_type": "stream",
     "text": [
      "<class 'pandas.core.frame.DataFrame'>\n",
      "RangeIndex: 12600 entries, 0 to 12599\n",
      "Data columns (total 8 columns):\n",
      " #   Column                 Non-Null Count  Dtype  \n",
      "---  ------                 --------------  -----  \n",
      " 0   RecordID               12600 non-null  int64  \n",
      " 1   Country                12600 non-null  object \n",
      " 2   Gender                 12600 non-null  object \n",
      " 3   Demographics Question  12600 non-null  object \n",
      " 4   Demographics Response  12600 non-null  object \n",
      " 5   Question               12600 non-null  object \n",
      " 6   Survey Year            12600 non-null  object \n",
      " 7   Value                  11187 non-null  float64\n",
      "dtypes: float64(1), int64(1), object(6)\n",
      "memory usage: 787.6+ KB\n"
     ]
    }
   ],
   "source": [
    "df.info()"
   ]
  },
  {
   "cell_type": "code",
   "execution_count": 44,
   "metadata": {},
   "outputs": [
    {
     "data": {
      "text/html": [
       "<div>\n",
       "<style scoped>\n",
       "    .dataframe tbody tr th:only-of-type {\n",
       "        vertical-align: middle;\n",
       "    }\n",
       "\n",
       "    .dataframe tbody tr th {\n",
       "        vertical-align: top;\n",
       "    }\n",
       "\n",
       "    .dataframe thead th {\n",
       "        text-align: right;\n",
       "    }\n",
       "</style>\n",
       "<table border=\"1\" class=\"dataframe\">\n",
       "  <thead>\n",
       "    <tr style=\"text-align: right;\">\n",
       "      <th></th>\n",
       "      <th>RecordID</th>\n",
       "      <th>Country</th>\n",
       "      <th>Gender</th>\n",
       "      <th>Demographics Question</th>\n",
       "      <th>Demographics Response</th>\n",
       "      <th>Question</th>\n",
       "      <th>Survey Year</th>\n",
       "      <th>Value</th>\n",
       "    </tr>\n",
       "  </thead>\n",
       "  <tbody>\n",
       "    <tr>\n",
       "      <th>count</th>\n",
       "      <td>12600.000000</td>\n",
       "      <td>12600</td>\n",
       "      <td>12600</td>\n",
       "      <td>12600</td>\n",
       "      <td>12600</td>\n",
       "      <td>12600</td>\n",
       "      <td>12600</td>\n",
       "      <td>11187.000000</td>\n",
       "    </tr>\n",
       "    <tr>\n",
       "      <th>unique</th>\n",
       "      <td>NaN</td>\n",
       "      <td>70</td>\n",
       "      <td>2</td>\n",
       "      <td>5</td>\n",
       "      <td>15</td>\n",
       "      <td>6</td>\n",
       "      <td>18</td>\n",
       "      <td>NaN</td>\n",
       "    </tr>\n",
       "    <tr>\n",
       "      <th>top</th>\n",
       "      <td>NaN</td>\n",
       "      <td>Liberia</td>\n",
       "      <td>F</td>\n",
       "      <td>Education</td>\n",
       "      <td>Rural</td>\n",
       "      <td>... if she refuses to have sex with him</td>\n",
       "      <td>01/01/2013</td>\n",
       "      <td>NaN</td>\n",
       "    </tr>\n",
       "    <tr>\n",
       "      <th>freq</th>\n",
       "      <td>NaN</td>\n",
       "      <td>180</td>\n",
       "      <td>6300</td>\n",
       "      <td>3360</td>\n",
       "      <td>840</td>\n",
       "      <td>2100</td>\n",
       "      <td>1980</td>\n",
       "      <td>NaN</td>\n",
       "    </tr>\n",
       "    <tr>\n",
       "      <th>mean</th>\n",
       "      <td>210.500000</td>\n",
       "      <td>NaN</td>\n",
       "      <td>NaN</td>\n",
       "      <td>NaN</td>\n",
       "      <td>NaN</td>\n",
       "      <td>NaN</td>\n",
       "      <td>NaN</td>\n",
       "      <td>19.762537</td>\n",
       "    </tr>\n",
       "    <tr>\n",
       "      <th>std</th>\n",
       "      <td>121.248024</td>\n",
       "      <td>NaN</td>\n",
       "      <td>NaN</td>\n",
       "      <td>NaN</td>\n",
       "      <td>NaN</td>\n",
       "      <td>NaN</td>\n",
       "      <td>NaN</td>\n",
       "      <td>16.986437</td>\n",
       "    </tr>\n",
       "    <tr>\n",
       "      <th>min</th>\n",
       "      <td>1.000000</td>\n",
       "      <td>NaN</td>\n",
       "      <td>NaN</td>\n",
       "      <td>NaN</td>\n",
       "      <td>NaN</td>\n",
       "      <td>NaN</td>\n",
       "      <td>NaN</td>\n",
       "      <td>0.000000</td>\n",
       "    </tr>\n",
       "    <tr>\n",
       "      <th>25%</th>\n",
       "      <td>105.750000</td>\n",
       "      <td>NaN</td>\n",
       "      <td>NaN</td>\n",
       "      <td>NaN</td>\n",
       "      <td>NaN</td>\n",
       "      <td>NaN</td>\n",
       "      <td>NaN</td>\n",
       "      <td>6.200000</td>\n",
       "    </tr>\n",
       "    <tr>\n",
       "      <th>50%</th>\n",
       "      <td>210.500000</td>\n",
       "      <td>NaN</td>\n",
       "      <td>NaN</td>\n",
       "      <td>NaN</td>\n",
       "      <td>NaN</td>\n",
       "      <td>NaN</td>\n",
       "      <td>NaN</td>\n",
       "      <td>14.900000</td>\n",
       "    </tr>\n",
       "    <tr>\n",
       "      <th>75%</th>\n",
       "      <td>315.250000</td>\n",
       "      <td>NaN</td>\n",
       "      <td>NaN</td>\n",
       "      <td>NaN</td>\n",
       "      <td>NaN</td>\n",
       "      <td>NaN</td>\n",
       "      <td>NaN</td>\n",
       "      <td>29.200000</td>\n",
       "    </tr>\n",
       "    <tr>\n",
       "      <th>max</th>\n",
       "      <td>420.000000</td>\n",
       "      <td>NaN</td>\n",
       "      <td>NaN</td>\n",
       "      <td>NaN</td>\n",
       "      <td>NaN</td>\n",
       "      <td>NaN</td>\n",
       "      <td>NaN</td>\n",
       "      <td>86.900000</td>\n",
       "    </tr>\n",
       "  </tbody>\n",
       "</table>\n",
       "</div>"
      ],
      "text/plain": [
       "            RecordID  Country Gender Demographics Question  \\\n",
       "count   12600.000000    12600  12600                 12600   \n",
       "unique           NaN       70      2                     5   \n",
       "top              NaN  Liberia      F             Education   \n",
       "freq             NaN      180   6300                  3360   \n",
       "mean      210.500000      NaN    NaN                   NaN   \n",
       "std       121.248024      NaN    NaN                   NaN   \n",
       "min         1.000000      NaN    NaN                   NaN   \n",
       "25%       105.750000      NaN    NaN                   NaN   \n",
       "50%       210.500000      NaN    NaN                   NaN   \n",
       "75%       315.250000      NaN    NaN                   NaN   \n",
       "max       420.000000      NaN    NaN                   NaN   \n",
       "\n",
       "       Demographics Response                                 Question  \\\n",
       "count                  12600                                    12600   \n",
       "unique                    15                                        6   \n",
       "top                    Rural  ... if she refuses to have sex with him   \n",
       "freq                     840                                     2100   \n",
       "mean                     NaN                                      NaN   \n",
       "std                      NaN                                      NaN   \n",
       "min                      NaN                                      NaN   \n",
       "25%                      NaN                                      NaN   \n",
       "50%                      NaN                                      NaN   \n",
       "75%                      NaN                                      NaN   \n",
       "max                      NaN                                      NaN   \n",
       "\n",
       "       Survey Year         Value  \n",
       "count        12600  11187.000000  \n",
       "unique          18           NaN  \n",
       "top     01/01/2013           NaN  \n",
       "freq          1980           NaN  \n",
       "mean           NaN     19.762537  \n",
       "std            NaN     16.986437  \n",
       "min            NaN      0.000000  \n",
       "25%            NaN      6.200000  \n",
       "50%            NaN     14.900000  \n",
       "75%            NaN     29.200000  \n",
       "max            NaN     86.900000  "
      ]
     },
     "execution_count": 44,
     "metadata": {},
     "output_type": "execute_result"
    }
   ],
   "source": [
    "df.describe(include='all')"
   ]
  },
  {
   "cell_type": "markdown",
   "metadata": {},
   "source": [
    "- The dataset is made up of 12600 rows and 8 columns. \n",
    "- there are 70 countries included in the survey.\n",
    "- each respondent was asked 6 questions.\n",
    "\n",
    "\n",
    "next I explore the countries, questions and demographic questions covered in this study. "
   ]
  },
  {
   "cell_type": "code",
   "execution_count": 45,
   "metadata": {},
   "outputs": [
    {
     "data": {
      "text/plain": [
       "array(['Marital status', 'Education', 'Employment', 'Age', 'Residence'],\n",
       "      dtype=object)"
      ]
     },
     "execution_count": 45,
     "metadata": {},
     "output_type": "execute_result"
    }
   ],
   "source": [
    "df['Demographics Question'].unique()"
   ]
  },
  {
   "cell_type": "code",
   "execution_count": 46,
   "metadata": {},
   "outputs": [
    {
     "name": "stdout",
     "output_type": "stream",
     "text": [
      "['Afghanistan' 'Albania' 'Angola' 'Armenia' 'Azerbaijan' 'Bangladesh'\n",
      " 'Benin' 'Bolivia' 'Burkina Faso' 'Burundi' 'Cambodia' 'Cameroon' 'Chad'\n",
      " 'Colombia' 'Comoros' 'Congo' 'Congo Democratic Republic' \"Cote d'Ivoire\"\n",
      " 'Dominican Republic' 'Egypt' 'Eritrea' 'Eswatini' 'Ethiopia' 'Gabon'\n",
      " 'Gambia' 'Ghana' 'Guatemala' 'Guinea' 'Guyana' 'Haiti' 'Honduras' 'India'\n",
      " 'Indonesia' 'Jordan' 'Kenya' 'Kyrgyz Republic' 'Lesotho' 'Liberia'\n",
      " 'Madagascar' 'Malawi' 'Maldives' 'Mali' 'Moldova' 'Morocco' 'Mozambique'\n",
      " 'Myanmar' 'Namibia' 'Nepal' 'Nicaragua' 'Niger' 'Nigeria' 'Pakistan'\n",
      " 'Peru' 'Philippines' 'Rwanda' 'Sao Tome and Principe' 'Senegal'\n",
      " 'Sierra Leone' 'South Africa' 'Tajikistan' 'Tanzania' 'Timor-Leste'\n",
      " 'Togo' 'Turkey' 'Turkmenistan' 'Uganda' 'Ukraine' 'Yemen' 'Zambia'\n",
      " 'Zimbabwe']\n"
     ]
    }
   ],
   "source": [
    "print(df.Country.unique())"
   ]
  },
  {
   "cell_type": "code",
   "execution_count": 47,
   "metadata": {},
   "outputs": [
    {
     "data": {
      "text/plain": [
       "array(['... if she burns the food',\n",
       "       '... for at least one specific reason',\n",
       "       '... if she argues with him',\n",
       "       '... if she goes out without telling him',\n",
       "       '... if she neglects the children',\n",
       "       '... if she refuses to have sex with him'], dtype=object)"
      ]
     },
     "execution_count": 47,
     "metadata": {},
     "output_type": "execute_result"
    }
   ],
   "source": [
    "df.Question.unique()"
   ]
  },
  {
   "cell_type": "code",
   "execution_count": 48,
   "metadata": {},
   "outputs": [
    {
     "data": {
      "image/png": "[encoded data removed]",
      "text/plain": [
       "<Figure size 432x288 with 1 Axes>"
      ]
     },
     "metadata": {},
     "output_type": "display_data"
    }
   ],
   "source": [
    "cases_reported = df['Gender'].value_counts()\n",
    "(cases_reported/df.shape[0]).plot(kind=\"pie\");\n",
    "plt.title(\"Which genders were involved in the survey \");"
   ]
  },
  {
   "cell_type": "markdown",
   "metadata": {},
   "source": [
    "it seem like both male and female repondents were invovled in the survey."
   ]
  },
  {
   "cell_type": "code",
   "execution_count": 49,
   "metadata": {},
   "outputs": [
    {
     "data": {
      "text/html": [
       "<div>\n",
       "<style scoped>\n",
       "    .dataframe tbody tr th:only-of-type {\n",
       "        vertical-align: middle;\n",
       "    }\n",
       "\n",
       "    .dataframe tbody tr th {\n",
       "        vertical-align: top;\n",
       "    }\n",
       "\n",
       "    .dataframe thead th {\n",
       "        text-align: right;\n",
       "    }\n",
       "</style>\n",
       "<table border=\"1\" class=\"dataframe\">\n",
       "  <thead>\n",
       "    <tr style=\"text-align: right;\">\n",
       "      <th></th>\n",
       "      <th>RecordID</th>\n",
       "      <th>Country</th>\n",
       "      <th>Gender</th>\n",
       "      <th>Demographics Question</th>\n",
       "      <th>Demographics Response</th>\n",
       "      <th>Question</th>\n",
       "      <th>Survey Year</th>\n",
       "      <th>Value</th>\n",
       "    </tr>\n",
       "  </thead>\n",
       "  <tbody>\n",
       "    <tr>\n",
       "      <th>6120</th>\n",
       "      <td>385</td>\n",
       "      <td>Kenya</td>\n",
       "      <td>F</td>\n",
       "      <td>Age</td>\n",
       "      <td>15-24</td>\n",
       "      <td>... for at least one specific reason</td>\n",
       "      <td>01/01/2014</td>\n",
       "      <td>42.0</td>\n",
       "    </tr>\n",
       "    <tr>\n",
       "      <th>6121</th>\n",
       "      <td>385</td>\n",
       "      <td>Kenya</td>\n",
       "      <td>F</td>\n",
       "      <td>Age</td>\n",
       "      <td>25-34</td>\n",
       "      <td>... for at least one specific reason</td>\n",
       "      <td>01/01/2014</td>\n",
       "      <td>39.8</td>\n",
       "    </tr>\n",
       "    <tr>\n",
       "      <th>6122</th>\n",
       "      <td>385</td>\n",
       "      <td>Kenya</td>\n",
       "      <td>F</td>\n",
       "      <td>Age</td>\n",
       "      <td>35-49</td>\n",
       "      <td>... for at least one specific reason</td>\n",
       "      <td>01/01/2014</td>\n",
       "      <td>44.0</td>\n",
       "    </tr>\n",
       "    <tr>\n",
       "      <th>6123</th>\n",
       "      <td>105</td>\n",
       "      <td>Kenya</td>\n",
       "      <td>F</td>\n",
       "      <td>Age</td>\n",
       "      <td>15-24</td>\n",
       "      <td>... if she argues with him</td>\n",
       "      <td>01/01/2014</td>\n",
       "      <td>20.9</td>\n",
       "    </tr>\n",
       "    <tr>\n",
       "      <th>6124</th>\n",
       "      <td>105</td>\n",
       "      <td>Kenya</td>\n",
       "      <td>F</td>\n",
       "      <td>Age</td>\n",
       "      <td>25-34</td>\n",
       "      <td>... if she argues with him</td>\n",
       "      <td>01/01/2014</td>\n",
       "      <td>20.1</td>\n",
       "    </tr>\n",
       "  </tbody>\n",
       "</table>\n",
       "</div>"
      ],
      "text/plain": [
       "      RecordID Country Gender Demographics Question Demographics Response  \\\n",
       "6120       385   Kenya      F                   Age                 15-24   \n",
       "6121       385   Kenya      F                   Age                 25-34   \n",
       "6122       385   Kenya      F                   Age                 35-49   \n",
       "6123       105   Kenya      F                   Age                 15-24   \n",
       "6124       105   Kenya      F                   Age                 25-34   \n",
       "\n",
       "                                  Question Survey Year  Value  \n",
       "6120  ... for at least one specific reason  01/01/2014   42.0  \n",
       "6121  ... for at least one specific reason  01/01/2014   39.8  \n",
       "6122  ... for at least one specific reason  01/01/2014   44.0  \n",
       "6123            ... if she argues with him  01/01/2014   20.9  \n",
       "6124            ... if she argues with him  01/01/2014   20.1  "
      ]
     },
     "execution_count": 49,
     "metadata": {},
     "output_type": "execute_result"
    }
   ],
   "source": [
    "Kenya_GV = df[df.Country == \"Kenya\"]\n",
    "Kenya_GV.head()"
   ]
  },
  {
   "cell_type": "markdown",
   "metadata": {},
   "source": [
    "Next I visualise the gender violence in Kenya justification based on residence"
   ]
  },
  {
   "cell_type": "code",
   "execution_count": 50,
   "metadata": {},
   "outputs": [
    {
     "data": {
      "text/plain": [
       "Text(0.5, 1.05, 'Kenyans agreeing a husband is justified in hitting his wife')"
      ]
     },
     "execution_count": 50,
     "metadata": {},
     "output_type": "execute_result"
    },
    {
     "data": {
      "image/png": "[encoded data removed]",
      "text/plain": [
       "<Figure size 404.875x360 with 1 Axes>"
      ]
     },
     "metadata": {
      "needs_background": "light"
     },
     "output_type": "display_data"
    }
   ],
   "source": [
    "Kenya_graph = Kenya_GV[Kenya_GV['Demographics Question'] == 'Residence']\n",
    "Kenya_chart = sns.catplot(x = 'Demographics Response', y = 'Value', hue = 'Gender',\n",
    "                         order = ['Urban', 'Rural'],\n",
    "                         data = Kenya_graph, kind = 'bar', ci=None)\n",
    "Kenya_chart.set_axis_labels('Residence', 'Percentage (%)')\n",
    "Kenya_chart.fig.suptitle('Kenyans agreeing a husband is justified in hitting his wife', y=1.05)"
   ]
  },
  {
   "cell_type": "code",
   "execution_count": 51,
   "metadata": {},
   "outputs": [
    {
     "data": {
      "text/plain": [
       "Text(0.5, 1.05, 'Kenyans agreeing a husband is justified in hitting his wife')"
      ]
     },
     "execution_count": 51,
     "metadata": {},
     "output_type": "execute_result"
    },
    {
     "data": {
      "image/png": "[encoded data removed]",
      "text/plain": [
       "<Figure size 583.25x360 with 1 Axes>"
      ]
     },
     "metadata": {
      "needs_background": "light"
     },
     "output_type": "display_data"
    }
   ],
   "source": [
    "Kenya_graph = Kenya_GV[Kenya_GV['Demographics Question'] == 'Education']\n",
    "Kenya_chart = sns.catplot(x = 'Demographics Response', y = 'Value', hue = 'Question',\n",
    "                         order = ['No education', 'Primary', 'Secondary', 'Higher'],\n",
    "                         data = Kenya_graph, kind = 'bar', ci=None)\n",
    "Kenya_chart.set_axis_labels('Education Level', 'Percentage (%)')\n",
    "Kenya_chart.fig.suptitle('Kenyans agreeing a husband is justified in hitting his wife', y=1.05)"
   ]
  },
  {
   "cell_type": "code",
   "execution_count": null,
   "metadata": {},
   "outputs": [],
   "source": []
  }
 ],
 "metadata": {
  "kernelspec": {
   "display_name": "Python 3",
   "language": "python",
   "name": "python3"
  },
  "language_info": {
   "codemirror_mode": {
    "name": "ipython",
    "version": 3
   },
   "file_extension": ".py",
   "mimetype": "text/x-python",
   "name": "python",
   "nbconvert_exporter": "python",
   "pygments_lexer": "ipython3",
   "version": "3.8.5"
  }
 },
 "nbformat": 4,
 "nbformat_minor": 4
}
